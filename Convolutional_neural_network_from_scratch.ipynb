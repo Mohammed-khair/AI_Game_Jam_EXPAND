{
  "nbformat": 4,
  "nbformat_minor": 0,
  "metadata": {
    "colab": {
      "provenance": [],
      "authorship_tag": "ABX9TyNV+AmF3n/EeS/SEQefzmeN",
      "include_colab_link": true
    },
    "kernelspec": {
      "name": "python3",
      "display_name": "Python 3"
    },
    "language_info": {
      "name": "python"
    }
  },
  "cells": [
    {
      "cell_type": "markdown",
      "metadata": {
        "id": "view-in-github",
        "colab_type": "text"
      },
      "source": [
        "<a href=\"https://colab.research.google.com/github/Mohammed-khair/AI_Game_Jam_EXPAND/blob/master/Convolutional_neural_network_from_scratch.ipynb\" target=\"_parent\"><img src=\"https://colab.research.google.com/assets/colab-badge.svg\" alt=\"Open In Colab\"/></a>"
      ]
    },
    {
      "cell_type": "markdown",
      "source": [
        "# Building a Convolutional neural network from scratch"
      ],
      "metadata": {
        "id": "Uhl31wg98cZ8"
      }
    },
    {
      "cell_type": "markdown",
      "source": [
        "This project was done as an excercise in the following course [Coursera: Convolutional neural network](https://www.coursera.org/learn/convolutional-neural-networks)"
      ],
      "metadata": {
        "id": "SXF7IwtFBtp-"
      }
    },
    {
      "cell_type": "markdown",
      "source": [
        "In this project, we will build:\n",
        "\n",
        "\n",
        "*   Convolutional Operation\n",
        "*   Pooling Operation\n",
        "*   CNN\n",
        "*   CNN Forward Propagation\n",
        "\n"
      ],
      "metadata": {
        "id": "1eoZfIM480_f"
      }
    },
    {
      "cell_type": "markdown",
      "source": [
        "We will only use the [numpy](https://numpy.org/) Library"
      ],
      "metadata": {
        "id": "OsC7YDHi-HOv"
      }
    },
    {
      "cell_type": "code",
      "execution_count": null,
      "metadata": {
        "id": "RsLLJFeN8ZLB"
      },
      "outputs": [],
      "source": [
        "import numpy as np\n",
        "import h5py\n",
        "import matplotlib.pyplot as plt\n",
        "\n",
        "np.random.seed(1)"
      ]
    },
    {
      "cell_type": "markdown",
      "source": [
        "# 1 Padding\n",
        "\n",
        "First we will create a helper function to do padding\n",
        "\n",
        "What is Padding?\n",
        "Padding refers to adding extra border pixels around the input data before applying convolutional operations\n",
        "\n"
      ],
      "metadata": {
        "id": "_BrV-o11AZpJ"
      }
    },
    {
      "cell_type": "markdown",
      "source": [
        "Why Padding?\n",
        "Padding help in:\n",
        "*   **Avoiding the shrinking problem:** Without padding, the feature map size would decrease with each convolutional layer. This shrinking effect can lead to a loss of spatial resolution, and the network might not be able to capture fine-grained patterns.\n",
        "*   **Controlling the output size:** By adjusting the amount of padding, it is possible to control the size of the output feature maps in CNNs, which can be useful in certain architectural designs and when building specific network structures.\n",
        "*  **Retaining information from the input borders:** Padding ensures that the convolution operation can be applied to all elements of the input, allowing information from the borders to be captured in the output."
      ],
      "metadata": {
        "id": "s0J3kdxJCipn"
      }
    },
    {
      "cell_type": "markdown",
      "source": [
        "To implement the function we will use [np.pad](https://docs.scipy.org/doc/numpy/reference/generated/numpy.pad.html)"
      ],
      "metadata": {
        "id": "aoA-gyLmF0A2"
      }
    },
    {
      "cell_type": "code",
      "source": [
        "def zero_pad(X, pad):\n",
        "    \"\"\"\n",
        "    Pad with zeros all images of the dataset X. The padding is applied to the height and width of an image,\n",
        "    as illustrated in Figure 1.\n",
        "\n",
        "    Argument:\n",
        "    X -- python numpy array of shape (m, n_H, n_W, n_C) representing a batch of m images\n",
        "    pad -- integer, amount of padding around each image on vertical and horizontal dimensions\n",
        "\n",
        "    Returns:\n",
        "    X_pad -- padded image of shape (m, n_H + 2 * pad, n_W + 2 * pad, n_C)\n",
        "    \"\"\"\n",
        "\n",
        "    pad_width = ((0, 0), (pad, pad), (pad, pad), (0, 0))\n",
        "    X_pad = np.pad(X, pad_width, mode='constant', constant_values=0)\n",
        "\n",
        "    return X_pad"
      ],
      "metadata": {
        "id": "rxyKp4diBIP-"
      },
      "execution_count": null,
      "outputs": []
    },
    {
      "cell_type": "markdown",
      "source": [
        "# 2 Convolution Step\n",
        "\n",
        "Next, we  will implement a single step of convolution, corresponding to applying a filter to just one of the positions to get a single real-valued output. \\\n",
        "Here is what a single step of convolution looks [like](https://www.researchgate.net/figure/Schematic-illustration-of-a-convolutional-operation-The-convolutional-kernel-shifts-over_fig2_332190148)"
      ],
      "metadata": {
        "id": "RjaLO-VgHsud"
      }
    },
    {
      "cell_type": "code",
      "source": [
        "def conv_single_step(a_slice_prev, W, b):\n",
        "    \"\"\"\n",
        "    Apply one filter defined by parameters W on a single slice (a_slice_prev) of the output activation\n",
        "    of the previous layer.\n",
        "\n",
        "    Arguments:\n",
        "    a_slice_prev -- slice of input data of shape (f, f, n_C_prev)\n",
        "    W -- Weight parameters contained in a window - matrix of shape (f, f, n_C_prev)\n",
        "    b -- Bias parameters contained in a window - matrix of shape (1, 1, 1)\n",
        "\n",
        "    Returns:\n",
        "    Z -- a scalar value, the result of convolving the sliding window (W, b) on a slice x of the input data\n",
        "    \"\"\"\n",
        "\n",
        "    s = np.multiply(a_slice_prev,  W)  # Element-wise product between a_slice_prev and W\n",
        "    Z = np.sum(s)             # Sum over all entries of the volume s\n",
        "    Z += float(b)               # Add bias b to Z. Cast b to a float() so that Z results in a scalar value.\n",
        "\n",
        "    return Z"
      ],
      "metadata": {
        "id": "q8JzUxY7rqeQ"
      },
      "execution_count": null,
      "outputs": []
    },
    {
      "cell_type": "markdown",
      "source": [
        "# 3  Forward Prop\n",
        "\n",
        "Now we will create a function to convolve the filter ***W*** on an an input activation ***A_prev***\n",
        "\n",
        "**Reminder**:\n",
        "    \n",
        "The formulas relating the output shape of the convolution to the input shape are:\n",
        "    \n",
        "$$n_H = \\Bigl\\lfloor \\frac{n_{H_{prev}} - f + 2 \\times pad}{stride} \\Bigr\\rfloor +1$$\n",
        "$$n_W = \\Bigl\\lfloor \\frac{n_{W_{prev}} - f + 2 \\times pad}{stride} \\Bigr\\rfloor +1$$\n",
        "$$n_C = \\text{number of filters used in the convolution}$$"
      ],
      "metadata": {
        "id": "gFe5MZ5AxRoP"
      }
    },
    {
      "cell_type": "code",
      "source": [
        "def conv_forward(A_prev, W, b, hparameters):\n",
        "    \"\"\"\n",
        "    Implements the forward propagation for a convolution function\n",
        "\n",
        "    Arguments:\n",
        "    A_prev -- output activations of the previous layer,\n",
        "        numpy array of shape (m, n_H_prev, n_W_prev, n_C_prev)\n",
        "    W -- Weights, numpy array of shape (f, f, n_C_prev, n_C)\n",
        "    b -- Biases, numpy array of shape (1, 1, 1, n_C)\n",
        "    hparameters -- python dictionary containing \"stride\" and \"pad\"\n",
        "\n",
        "    Returns:\n",
        "    Z -- conv output, numpy array of shape (m, n_H, n_W, n_C)\n",
        "    cache -- cache of values needed for the conv_backward() function\n",
        "    \"\"\"\n",
        "\n",
        "    # Retrieve dimensions from A_prev's shape\n",
        "    (m, n_H_prev, n_W_prev, n_C_prev) = A_prev.shape\n",
        "\n",
        "    # Retrieve dimensions from W's shape\n",
        "    (f, f, n_C_prev, n_C) = W.shape\n",
        "\n",
        "    # Retrieve information from \"hparameters\"\n",
        "    stride = hparameters[\"stride\"]\n",
        "    pad = hparameters[\"pad\"]\n",
        "\n",
        "    # Compute the dimensions of the CONV output volume using the formula given above.\n",
        "    # int() is used to do the floor operation\n",
        "    n_H = int( (n_H_prev + 2 * pad - f) / stride) + 1\n",
        "    n_W = int( (n_W_prev + 2 * pad - f) / stride) + 1\n",
        "\n",
        "    # Initialize the output volume Z with zeros.\n",
        "    Z = np.zeros((m, n_H, n_W, n_C))\n",
        "\n",
        "    # Create A_prev_pad by padding A_prev\n",
        "    A_prev_pad = zero_pad(A_prev, pad)\n",
        "\n",
        "    # loop over the batch of training examples\n",
        "    for i in range(m):\n",
        "\n",
        "      # Select ith training example's padded activation\n",
        "        a_prev_pad = A_prev_pad[i]\n",
        "\n",
        "        # loop over vertical axis of the output volume\n",
        "        for h in range(n_H):\n",
        "\n",
        "            # Find the vertical start and end of the current \"slice\"\n",
        "            vert_start = h * stride\n",
        "            vert_end = vert_start + f\n",
        "\n",
        "            # loop over horizontal axis of the output volume\n",
        "            for w in range(n_W):\n",
        "\n",
        "                # Find the horizontal start and end of the current \"slice\"\n",
        "                horiz_start = w * stride\n",
        "                horiz_end = horiz_start + f\n",
        "\n",
        "                # loop over channels (= #filters) of the output volume\n",
        "                for c in range(n_C):\n",
        "\n",
        "                    # Use the corners to define the (3D) slice of a_prev_pad (See Hint above the cell)\n",
        "                    a_slice_prev = a_prev_pad[vert_start:vert_end, horiz_start:horiz_end, :]\n",
        "\n",
        "                    # Convolve the (3D) slice with the correct filter W and bias b, to get back one output neuron.\n",
        "                    weights = W[:, :, :, c]\n",
        "                    biases = b[:, :, :, c]\n",
        "                    Z[i, h, w, c] = conv_single_step(a_slice_prev, weights, biases)\n",
        "\n",
        "    # Save information in \"cache\" for the backprop\n",
        "    cache = (A_prev, W, b, hparameters)\n",
        "\n",
        "    return Z, cache"
      ],
      "metadata": {
        "id": "b8C7QUMuIbPZ"
      },
      "execution_count": null,
      "outputs": []
    },
    {
      "cell_type": "markdown",
      "source": [
        "# 4 Pooling Layer\n",
        "\n",
        "The pooling layer reduces the height and width of the input. It helps reduce computation, as well as helps make feature detectors more invariant to its position in the input. The two types of pooling layers are"
      ],
      "metadata": {
        "id": "Y7pw-46lUN7k"
      }
    },
    {
      "cell_type": "code",
      "source": [
        "def pool_forward(A_prev, hparameters, mode = \"max\"):\n",
        "    \"\"\"\n",
        "    Implements the forward pass of the pooling layer\n",
        "\n",
        "    Arguments:\n",
        "    A_prev -- Input data, numpy array of shape (m, n_H_prev, n_W_prev, n_C_prev)\n",
        "    hparameters -- python dictionary containing \"f\" and \"stride\"\n",
        "    mode -- the pooling mode you would like to use, defined as a string (\"max\" or \"average\")\n",
        "\n",
        "    Returns:\n",
        "    A -- output of the pool layer, a numpy array of shape (m, n_H, n_W, n_C)\n",
        "    cache -- cache used in the backward pass of the pooling layer, contains the input and hparameters\n",
        "    \"\"\"\n",
        "\n",
        "    # Retrieve dimensions from the input shape\n",
        "    (m, n_H_prev, n_W_prev, n_C_prev) = A_prev.shape\n",
        "\n",
        "    # Retrieve hyperparameters from \"hparameters\"\n",
        "    f = hparameters[\"f\"]\n",
        "    stride = hparameters[\"stride\"]\n",
        "\n",
        "    # Define the dimensions of the output\n",
        "    n_H = int(1 + (n_H_prev - f) / stride)\n",
        "    n_W = int(1 + (n_W_prev - f) / stride)\n",
        "    n_C = n_C_prev\n",
        "\n",
        "    # Initialize output matrix A\n",
        "    A = np.zeros((m, n_H, n_W, n_C))\n",
        "\n",
        "    # loop over the training examples\n",
        "    for i in range(m):\n",
        "\n",
        "          # loop on the vertical axis of the output volume\n",
        "         for h in range(n_H):\n",
        "\n",
        "            # Find the vertical start and end of the current \"slice\" (≈2 lines)\n",
        "            vert_start = h * stride\n",
        "            vert_end = vert_start + f\n",
        "\n",
        "            # loop on the horizontal axis of the output volume\n",
        "            for w in range(n_W):\n",
        "\n",
        "                # Find the vertical start and end of the current \"slice\" (≈2 lines)\n",
        "                horiz_start = w * stride\n",
        "                horiz_end = horiz_start + f\n",
        "\n",
        "                # loop over the channels of the output volume\n",
        "                for c in range (n_C):\n",
        "\n",
        "                     # Use the corners to define the current slice on the ith training example of A_prev, channel c. (≈1 line)\n",
        "                    a_prev_slice = A_prev[i, vert_start:vert_end, horiz_start:horiz_end, c]\n",
        "\n",
        "                    # Compute the pooling operation on the slice.\n",
        "                    if mode == \"max\":\n",
        "                        A[i, h, w, c] = np.max(a_prev_slice)\n",
        "                    elif mode == \"average\":\n",
        "                        A[i, h, w, c] = np.mean(a_prev_slice)\n",
        "\n",
        "    # Store the input and hparameters in \"cache\" for pool_backward()\n",
        "    cache = (A_prev, hparameters)\n",
        "\n",
        "    # Making sure your output shape is correct\n",
        "    assert(A.shape == (m, n_H, n_W, n_C))\n",
        "\n",
        "    return A, cache"
      ],
      "metadata": {
        "id": "q0Dky9cOa55c"
      },
      "execution_count": null,
      "outputs": []
    }
  ]
}